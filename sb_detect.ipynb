{
 "cells": [
  {
   "cell_type": "code",
   "execution_count": 3,
   "id": "ddeab9",
   "metadata": {
    "collapsed": false
   },
   "outputs": [
    {
     "data": {
      "image/png": "[encoded data removed]",
      "text/plain": [
       "Graphics object consisting of 11 graphics primitives"
      ]
     },
     "execution_count": 3,
     "metadata": {
     },
     "output_type": "execute_result"
    },
    {
     "name": "stdout",
     "output_type": "stream",
     "text": [
      "[0 1 1 0 0]\n",
      "[1 0 0 1 0]\n",
      "[1 0 0 0 1]\n",
      "[0 1 0 0 1]\n",
      "[0 0 1 1 0]\n",
      "2\n",
      "Graf je tipa (SB)\n"
     ]
    }
   ],
   "source": [
    "# Ta datoteka vsebuje kodo za preverjanje, če je graf tipa (SB) ali ne \n",
    "#\n",
    "# nek primer grafa, ki ni tipa (SB)\n",
    "#G = graphs.CompleteGraph(4)\n",
    "\n",
    "# primer grafa, ki je tipa (SB)\n",
    "G = Graph({0: [1, 2], 1: [0, 3], 2: [0, 4], 3: [1, 4], 4: [2, 3]})\n",
    "\n",
    "P = G.plot()\n",
    "P.show()\n",
    "\n",
    "adj = G.adjacency_matrix() # matrika sosednosti\n",
    "print(adj)\n",
    "\n",
    "diameter = G.diameter()\n",
    "print(diameter)\n",
    "\n",
    "if diameter != 2:\n",
    "    print(\"Premer ni 2, graf ni tipa (SB)\")\n",
    "\n",
    "def nor(a, b):\n",
    "    if a == 0 and b == 0:\n",
    "        return 1\n",
    "    return 0\n",
    "\n",
    "is_sb = False\n",
    "\n",
    "for i, row in enumerate(adj):\n",
    "    for j, v in enumerate(row):\n",
    "        if v == 1 and i < j: # našli smo soseda, drugi pogoj je zato, da nismo že prej preverjali teh dveh vozlišč\n",
    "                        \n",
    "            row_neighbour = adj[j] # sosedi od soseda\n",
    "\n",
    "            #print(\"comparing: \", \"i: \", i, \", j: \", j, \", \", row, \" \", row_neighbour)\n",
    "\n",
    "            # preverit je treba, da nimata nobenih skupnih sosedov, ter da obstaja vozlišče, ki ni sosed od njiju dveh\n",
    "            \n",
    "            pairs = list(zip(row, row_neighbour))\n",
    "            \n",
    "            common_neighbours = list(x and y for x, y in pairs)\n",
    "            \n",
    "            if common_neighbours.count(1) > 1: # iščemo večje kot 1, ker že vemo da sta i in j soseda\n",
    "                # našli smo skupnega soseda\n",
    "                continue\n",
    "            \n",
    "            non_adj_vertices = list(nor(x, y) for x, y in pairs)\n",
    "            #print(non_adj_vertices)\n",
    "            \n",
    "            if non_adj_vertices.count(1) > 0:\n",
    "                # našli smo vozlišče, ki ni sosed od danih dveh vozlišč\n",
    "                is_sb = True\n",
    "                break\n",
    "                \n",
    "        if is_sb:\n",
    "            # smo že ugotovili, da je graf tipa (SB)\n",
    "            break\n",
    "\n",
    "if is_sb:\n",
    "    print(\"Graf je tipa (SB)\")\n",
    "else:\n",
    "    print(\"Graf ni tipa (SB)\")\n",
    "            \n",
    "            \n",
    "            \n",
    "            \n",
    "            "
   ]
  },
  {
   "cell_type": "code",
   "execution_count": 4,
   "id": "d213ec",
   "metadata": {
    "collapsed": false
   },
   "outputs": [
    {
     "name": "stdout",
     "output_type": "stream",
     "text": [
      "False\n",
      "True\n",
      "False\n"
     ]
    }
   ],
   "source": [
    "# tukaj je sedaj cel algoritem, ki preveri ali je graf tipa (SB), zapakiran v funkciji\n",
    "\n",
    "g1 = graphs.CompleteGraph(4)\n",
    "g2 = Graph({0: [1, 2], 1: [0, 3], 2: [0, 4], 3: [1, 4], 4: [2, 3]})\n",
    "g3 = Graph({0: [1, 2], 1: [0, 3], 2: [0, 4], 3: [1, 4], 4: [2, 3, 5], 5: []})\n",
    "\n",
    "def is_sb(G: Graph) -> bool:\n",
    "    diameter = G.diameter()\n",
    "    if diameter != 2:\n",
    "        return False\n",
    "    \n",
    "    adj = G.adjacency_matrix()\n",
    "\n",
    "    for i, row in enumerate(adj):\n",
    "        for j, v in enumerate(row):\n",
    "            if v == 1 and i < j:\n",
    "                pairs = list(zip(row, adj[j]))\n",
    "\n",
    "                common_neighbours = list(x and y for x, y in pairs)\n",
    "                if common_neighbours.count(1) > 1:\n",
    "                    continue\n",
    "\n",
    "                non_adj_vertices = list(x == 0 and y == 0 for x, y in pairs)\n",
    "                if non_adj_vertices.count(1) > 0:\n",
    "                    return True\n",
    "    return False\n",
    "\n",
    "\n",
    "print(is_sb(g1))\n",
    "print(is_sb(g2))\n",
    "print(is_sb(g3))"
   ]
  },
  {
   "cell_type": "code",
   "execution_count": 0,
   "id": "2401a8",
   "metadata": {
    "collapsed": false
   },
   "outputs": [
   ],
   "source": [
   ]
  }
 ],
 "metadata": {
  "kernelspec": {
   "argv": [
    "sage-10.4",
    "--python",
    "-m",
    "sage.repl.ipython_kernel",
    "--matplotlib=inline",
    "-f",
    "{connection_file}"
   ],
   "display_name": "SageMath 10.4",
   "env": {
   },
   "language": "sagemath",
   "metadata": {
    "cocalc": {
     "description": "Open-source mathematical software system",
     "priority": 10,
     "url": "https://www.sagemath.org/"
    }
   },
   "name": "sage-10.4",
   "resource_dir": "/ext/jupyter/kernels/sage-10.4"
  },
  "language_info": {
   "codemirror_mode": {
    "name": "ipython",
    "version": 3
   },
   "file_extension": ".py",
   "mimetype": "text/x-python",
   "name": "python",
   "nbconvert_exporter": "python",
   "pygments_lexer": "ipython3",
   "version": "3.12.4"
  }
 },
 "nbformat": 4,
 "nbformat_minor": 4
}