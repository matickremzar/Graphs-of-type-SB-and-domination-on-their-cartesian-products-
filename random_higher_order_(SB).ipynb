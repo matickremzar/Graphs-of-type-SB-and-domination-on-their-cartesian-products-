{
 "cells": [
  {
   "cell_type": "code",
   "execution_count": null,
   "metadata": {},
   "outputs": [],
   "source": [
    "#naključno generiramo graf tipa (SB) z n vozlišči\n",
    "def generate_random_sb_graph(n, max_attempts=1000000):\n",
    "    for _ in range(max_attempts):\n",
    "        # generiramo naključen graf\n",
    "        G = random_graph = graphs.RandomGNP(n, 0.5)  #lahko spremenimo gostoto vozlišč (da ni 0.5); mora biti kar precej povezan, da je za visok red premer enak 2, ne pa preveč, ker morata biti 2 vozlišči brez skupnih sosedov\n",
    "        if is_sb(G):\n",
    "            return G\n",
    "    return None \n",
    "\n",
    "Graph = generate_random_sb_graph(70)\n",
    "Graph.plot()\n",
    "\n",
    "#težava nastane, ker za velike n obstaja ogromno grafov, proporcionalno pa jih je zelo malo (v limiti 0%) tipa (SB)\n",
    "\n",
    "#za poročilo bi bilo morda dobro delati analizo, kako vpliva izbira parametra p na to, koliko grafov pregleda algoritem preden najde enega tipa (SB)\n",
    "\n",
    "#prav tako kako vpliva izbira reda n na to, koliko grafov pregleda algoritem preden najde enega tipa (SB)\n",
    "\n",
    "#največ kar sem našel v času pod 1 minuto je graf na 55 vozliščih"
   ]
  }
 ],
 "metadata": {
  "language_info": {
   "name": "python"
  }
 },
 "nbformat": 4,
 "nbformat_minor": 2
}
