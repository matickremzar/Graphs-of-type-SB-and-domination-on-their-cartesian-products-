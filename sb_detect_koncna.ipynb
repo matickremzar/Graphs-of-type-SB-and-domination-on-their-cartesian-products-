{
 "cells": [
  {
   "cell_type": "code",
   "execution_count": null,
   "id": "2401a8",
   "metadata": {
    "collapsed": false
   },
   "outputs": [
    {
     "name": "stdout",
     "output_type": "stream",
     "text": [
      "False\n",
      "True\n",
      "False\n"
     ]
    }
   ],
   "source": [
    "def is_sb(G: Graph) -> bool:\n",
    "    # Premer mora biti 2\n",
    "    if G.diameter() != 2:\n",
    "        return False\n",
    "\n",
    "    # Matrika sosednosti\n",
    "    adj = G.adjacency_matrix()\n",
    "\n",
    "    # Iteriramo čez vse pare sosednjih vozlišč\n",
    "    for i in range(adj.nrows()):  \n",
    "        for j in range(i + 1, adj.nrows()):  # Samo zgornji trikotnik matrike\n",
    "            if adj[i, j] == 1:  # Če sta i in j soseda\n",
    "                # Preverimo, če nimata skupnih sosedov\n",
    "                common_neighbour = any(adj[i, k] and adj[j, k] for k in range(adj.nrows()))\n",
    "                if common_neighbour:\n",
    "                    continue\n",
    "                \n",
    "                # Poiščemo vozlišče, ki ni povezano z i in j\n",
    "                nonadj_vertex_exists = any(\n",
    "                    not adj[i, k] and not adj[j, k] \n",
    "                    for k in range(adj.nrows()) \n",
    "                    if k != i and k != j\n",
    "                )\n",
    "                if nonadj_vertex_exists:\n",
    "                    return True\n",
    "\n",
    "    # Če noben par ni ustrezal, graf ni tipa (SB)\n",
    "    return False\n",
    "\n",
    "\n",
    
