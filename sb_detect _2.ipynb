{
 "cells": [
  {
   "cell_type": "code",
   "execution_count": null,
   "id": "2401a8",
   "metadata": {
    "collapsed": false
   },
   "outputs": [
    {
     "name": "stdout",
     "output_type": "stream",
     "text": [
      "False\n",
      "True\n",
      "False\n"
     ]
    }
   ],
   "source": [
    "def is_sb(G: Graph) -> bool:\n",
    "    # Premer mora biti 2\n",
    "    if G.diameter() != 2:\n",
    "        return False\n",
    "\n",
    "    # Matrika sosednosti\n",
    "    adj = G.adjacency_matrix()\n",
    "\n",
    "    # Iteriramo čez vse pare sosednjih vozlišč\n",
    "    for i in range(adj.nrows()):  \n",
    "        for j in range(i + 1, adj.nrows()):  # Samo zgornji trikotnik matrike\n",
    "            if adj[i, j] == 1:  # Če sta i in j soseda\n",
    "                # Preverimo, če nimata skupnih sosedov\n",
    "                common_neighbour = any(adj[i, k] and adj[j, k] for k in range(adj.nrows()))\n",
    "                if common_neighbour:\n",
    "                    continue\n",
    "                \n",
    "                # Poiščemo vozlišče, ki ni povezano z i in j\n",
    "                nonadj_vertex_exists = any(\n",
    "                    not adj[i, k] and not adj[j, k] \n",
    "                    for k in range(adj.nrows()) \n",
    "                    if k != i and k != j\n",
    "                )\n",
    "                if nonadj_vertex_exists:\n",
    "                    return True\n",
    "\n",
    "    # Če noben par ni ustrezal, graf ni tipa (SB)\n",
    "    return False\n",
    "\n",
    "\n",
    "g1 = graphs.CompleteGraph(4)\n",
    "g2 = Graph({0: [1, 2], 1: [0, 3], 2: [0, 4], 3: [1, 4], 4: [2, 3]})\n",
    "g3 = Graph({0: [1, 2], 1: [0, 3], 2: [0, 4], 3: [1, 4], 4: [2, 3, 5], 5: []})\n",
    "\n",
    "print(is_sb(g1))\n",
    "print(is_sb(g2))\n",
    "print(is_sb(g3))\n"
   ]
  },
  {
   "cell_type": "code",
   "execution_count": 0,
   "id": "3d7b43",
   "metadata": {
    "collapsed": false
   },
   "outputs": [],
   "source": [
    "#Poiščemo vse grafe tipa (SB) na n=<10 vozliščih\n",
    "sb_counted = {}\n",
    "\n",
    "for n in range(1, 11):  # 1 do 10 vozlišč\n",
    "    sb_count = 0\n",
    "    for graph in graphs(n):  # Generira vse možne grafe z n vozlišči\n",
    "        if is_sb(graph):\n",
    "            sb_count += 1\n",
    "            graph.plot().show()\n",
    "    sb_counted[n] = sb_count  \n",
    "\n",
    "#Preštejemo koliko jih je za posamezen n\n",
    "for n, count in sb_counted.items():\n",
    "    print(f\"Število grafov tipa (SB) z {n} vozlišči: {count}\")"
   ]
  }
 ],
 "metadata": {
  "kernelspec": {
   "argv": [
    "sage-10.4",
    "--python",
    "-m",
    "sage.repl.ipython_kernel",
    "--matplotlib=inline",
    "-f",
    "{connection_file}"
   ],
   "display_name": "SageMath 10.4",
   "env": {},
   "language": "sagemath",
   "metadata": {
    "cocalc": {
     "description": "Open-source mathematical software system",
     "priority": 10,
     "url": "https://www.sagemath.org/"
    }
   },
   "name": "sage-10.4",
   "resource_dir": "/ext/jupyter/kernels/sage-10.4"
  },
  "language_info": {
   "codemirror_mode": {
    "name": "ipython",
    "version": 3
   },
   "file_extension": ".py",
   "mimetype": "text/x-python",
   "name": "python",
   "nbconvert_exporter": "python",
   "pygments_lexer": "ipython3",
   "version": "3.12.4"
  }
 },
 "nbformat": 4,
 "nbformat_minor": 4
}
